{
 "cells": [
  {
   "cell_type": "code",
   "execution_count": 2,
   "id": "bb8dc9a7",
   "metadata": {},
   "outputs": [
    {
     "name": "stdout",
     "output_type": "stream",
     "text": [
      "0\n",
      "1\n",
      "2\n",
      "4\n",
      "5\n"
     ]
    }
   ],
   "source": [
    "#1) Write a Python program that prints all the numbers from 0 to 6 except 3 and 6\n",
    "#for loop\n",
    "for i in range(0,7):\n",
    "    if i==3 or i==6:\n",
    "        continue\n",
    "    print(i)\n"
   ]
  },
  {
   "cell_type": "code",
   "execution_count": 2,
   "id": "12435bde",
   "metadata": {},
   "outputs": [
    {
     "name": "stdout",
     "output_type": "stream",
     "text": [
      "0\n",
      "1\n",
      "2\n",
      "4\n",
      "5\n"
     ]
    }
   ],
   "source": [
    "#while loop\n",
    "a=-1\n",
    "while a<6:\n",
    "    a+=1\n",
    "    if a==3 or a==6:\n",
    "        continue\n",
    "    print(a)\n"
   ]
  },
  {
   "cell_type": "code",
   "execution_count": 4,
   "id": "a7c9bad0",
   "metadata": {},
   "outputs": [
    {
     "name": "stdout",
     "output_type": "stream",
     "text": [
      "type your name :5\n",
      "the sum of all numbersfrom 1 to the given number is : 15\n"
     ]
    }
   ],
   "source": [
    "#2) Write a program to accept a number from a user and calculate the sum of all numbers from 1 to a given number\n",
    "x=int(input(\"type your name :\"))\n",
    "y=0\n",
    "for n in range(x+1):\n",
    "    y+=n\n",
    "print(\"the sum of all numbersfrom 1 to the given number is :\",y)"
   ]
  },
  {
   "cell_type": "code",
   "execution_count": 6,
   "id": "c745d8a7",
   "metadata": {},
   "outputs": [
    {
     "name": "stdout",
     "output_type": "stream",
     "text": [
      "enter a number9\n",
      "the sum of all numbers from 1 to the given number is: 45\n"
     ]
    }
   ],
   "source": [
    "x=int(input(\"enter a number\"))\n",
    "total_numbers=x\n",
    "y=0\n",
    "while x>0:\n",
    "    y+=x\n",
    "    x-=1\n",
    "print(\"the sum of all numbers from 1 to the given number is:\",y)\n",
    "    \n"
   ]
  },
  {
   "cell_type": "code",
   "execution_count": 7,
   "id": "bebcc277",
   "metadata": {},
   "outputs": [
    {
     "name": "stdout",
     "output_type": "stream",
     "text": [
      "5*0=0\n",
      "5*1=5\n",
      "5*2=10\n",
      "5*3=15\n",
      "5*4=20\n",
      "5*5=25\n",
      "5*6=30\n",
      "5*7=35\n",
      "5*8=40\n",
      "5*9=45\n",
      "5*10=50\n"
     ]
    }
   ],
   "source": [
    "#3) Write a program to print multiplication table of a given number(input)\n",
    "def mul(x,y):\n",
    "    for n in range(0,y+1):\n",
    "        z=x*n\n",
    "        print(\"{}*{}={}\".format(x,n,z))\n",
    "mul(5,10)\n"
   ]
  },
  {
   "cell_type": "code",
   "execution_count": 9,
   "id": "ffaca4da",
   "metadata": {},
   "outputs": [
    {
     "name": "stdout",
     "output_type": "stream",
     "text": [
      "enter a number 1 : 9\n",
      "ehter a number 2 : 10\n",
      "9*1=9\n",
      "9*2=18\n",
      "9*3=27\n",
      "9*4=36\n",
      "9*5=45\n",
      "9*6=54\n",
      "9*7=63\n",
      "9*8=72\n",
      "9*9=81\n",
      "9*10=90\n"
     ]
    }
   ],
   "source": [
    "x=int(input(\"enter a number 1 : \"))\n",
    "y=int(input(\"ehter a number 2 : \"))\n",
    "z=1\n",
    "while z<=y:\n",
    "    r=x*z\n",
    "    print(\"{}*{}={}\".format(x,z,r))\n",
    "    z+=1"
   ]
  },
  {
   "cell_type": "code",
   "execution_count": 13,
   "id": "e246f534",
   "metadata": {},
   "outputs": [
    {
     "name": "stdout",
     "output_type": "stream",
     "text": [
      "enter a number : 45645345654345676545\n",
      "length of 45645345654345676545 is: 20\n"
     ]
    }
   ],
   "source": [
    "#4) Write a program to count the total number of digits in a number using a while loop.\n",
    "num=input(\"enter a number : \")\n",
    "a=0\n",
    "for i in num:\n",
    "    a+=1\n",
    "print(\"length of {} is: {}\".format(num,a))\n",
    "    "
   ]
  },
  {
   "cell_type": "code",
   "execution_count": 14,
   "id": "52d29315",
   "metadata": {},
   "outputs": [
    {
     "name": "stdout",
     "output_type": "stream",
     "text": [
      "enter number543796354677273644\n",
      "length of 543796354677273644 is: 18\n"
     ]
    }
   ],
   "source": [
    "num=input(\"enter number\")\n",
    "x=True\n",
    "a=0\n",
    "while x:\n",
    "    for i in num:\n",
    "        a+=1\n",
    "    x=False\n",
    "print(\"length of {} is: {}\".format(num,a))"
   ]
  },
  {
   "cell_type": "code",
   "execution_count": 15,
   "id": "81c79522",
   "metadata": {},
   "outputs": [
    {
     "name": "stdout",
     "output_type": "stream",
     "text": [
      "enter number : 2\n",
      "Good Guess\n"
     ]
    }
   ],
   "source": [
    "#5) Write a Python program to guess a number between 1 to\n",
    "#Example:\n",
    "#User is prompted to enter a guess. If the user guesses wrong then the prompt appears again until the guess is correct, on successful guess, user will get a \"Well guessed!\" message, and the program will exit\n",
    "num=int(input(\"enter number : \"))\n",
    "from random import shuffle\n",
    "x=[1,2,3,4,5,6]\n",
    "shuffle(x)\n",
    "for i in x:\n",
    "    if x[0]==num:\n",
    "        print(\"Good Guess\")\n",
    "        break\n",
    "    else:\n",
    "        num=int(input(\"enter number : \"))\n",
    "        continue"
   ]
  },
  {
   "cell_type": "code",
   "execution_count": 16,
   "id": "0646ede0",
   "metadata": {},
   "outputs": [
    {
     "name": "stdout",
     "output_type": "stream",
     "text": [
      "enter number : 5\n",
      "enter number : 3\n",
      "Good guess!\n"
     ]
    }
   ],
   "source": [
    "num=int(input(\"enter number : \"))\n",
    "from random import shuffle\n",
    "dice=[1,2,3,4,5,6]\n",
    "shuffle(dice)\n",
    "x=True\n",
    "while x:\n",
    "    if dice[0]==num:\n",
    "        print(\"Good guess!\")\n",
    "        x=False\n",
    "    else:\n",
    "        num=int(input(\"enter number : \"))\n",
    "        continue"
   ]
  },
  {
   "cell_type": "code",
   "execution_count": 17,
   "id": "da6931be",
   "metadata": {},
   "outputs": [
    {
     "name": "stdout",
     "output_type": "stream",
     "text": [
      "[1, 2, 'Fizz', 4, 'Buzz', 'Fizz', 7, 8, 'Fizz', 'Buzz', 11, 'Fizz', 13, 14, 'FizzBuzz', 16, 17, 'Fizz', 19, 'Buzz', 'Fizz', 22, 23, 'Fizz', 'Buzz', 26, 'Fizz', 28, 29, 'FizzBuzz', 31, 32, 'Fizz', 34, 'Buzz', 'Fizz', 37, 38, 'Fizz', 'Buzz', 41, 'Fizz', 43, 44, 'FizzBuzz', 46, 47, 'Fizz', 49, 'Buzz', 'Fizz', 52, 53, 'Fizz', 'Buzz', 56, 'Fizz', 58, 59, 'FizzBuzz']\n"
     ]
    }
   ],
   "source": [
    "#6) Write a Python program which iterates the integers from 1 to 60. For multiples of three print \"Fizz\" instead of thenumber and for the multiples of five print \"Buzz\". For \n",
    "#numbers which are multiples of both three and five print \"FizzBuzz\".\n",
    "a=[]\n",
    "for num in range(1,61):\n",
    "    if num%3==0 and num%5==0:\n",
    "        a.append(\"FizzBuzz\")\n",
    "    elif num%3==0:\n",
    "        a.append(\"Fizz\")\n",
    "    elif num%5==0:\n",
    "        a.append(\"Buzz\")\n",
    "    else:\n",
    "        a.append(num)\n",
    "print(a) "
   ]
  },
  {
   "cell_type": "code",
   "execution_count": 18,
   "id": "45169f88",
   "metadata": {},
   "outputs": [
    {
     "name": "stdout",
     "output_type": "stream",
     "text": [
      "[1, 2, 'Fizz', 4, 'Buzz', 'Fizz', 7, 8, 'Fizz', 'Buzz', 11, 'Fizz', 13, 14, 'FizzBuzz', 16, 17, 'Fizz', 19, 'Buzz', 'Fizz', 22, 23, 'Fizz', 'Buzz', 26, 'Fizz', 28, 29, 'FizzBuzz', 31, 32, 'Fizz', 34, 'Buzz', 'Fizz', 37, 38, 'Fizz', 'Buzz', 41, 'Fizz', 43, 44, 'FizzBuzz', 46, 47, 'Fizz', 49, 'Buzz', 'Fizz', 52, 53, 'Fizz', 'Buzz', 56, 'Fizz', 58, 59, 'FizzBuzz']\n"
     ]
    }
   ],
   "source": [
    "x=True\n",
    "a=[]\n",
    "while x:\n",
    "    for num in range(1,61):\n",
    "        if num%3==0 and num%5==0:\n",
    "            a.append(\"FizzBuzz\")\n",
    "        elif num%3==0:\n",
    "            a.append(\"Fizz\")\n",
    "        elif num%5==0:\n",
    "            a.append(\"Buzz\")\n",
    "        else:\n",
    "            a.append(num)\n",
    "    x=False\n",
    "print(a)"
   ]
  },
  {
   "cell_type": "code",
   "execution_count": 19,
   "id": "640c14c7",
   "metadata": {},
   "outputs": [
    {
     "name": "stdout",
     "output_type": "stream",
     "text": [
      "enter input : 3.2\n",
      "Digits in 3.2 : 2\n",
      "Letters in 3.2 : 0\n"
     ]
    }
   ],
   "source": [
    "#7) Write a Python program that accepts a string and calculate \n",
    "#the number of digits and letters\n",
    "#Example:\n",
    "#Input\n",
    "#Python 3.2 \n",
    "#Output\n",
    "#Letters 6\n",
    "#Digits 2\n",
    "string=input(\"enter input : \")\n",
    "digit=0\n",
    "letters=0\n",
    "for elements in string:\n",
    "    if elements.isdigit():\n",
    "        digit+=1\n",
    "    elif elements.isalpha():\n",
    "        letters+=1\n",
    "print(\"Digits in {} : {}\".format(string,digit))\n",
    "print(\"Letters in {} : {}\".format(string,letters))"
   ]
  },
  {
   "cell_type": "code",
   "execution_count": 20,
   "id": "4ee9f014",
   "metadata": {},
   "outputs": [
    {
     "name": "stdout",
     "output_type": "stream",
     "text": [
      "Type your input here : 3.2\n",
      "Digits in 3.2 : 2\n",
      "Letters in 3.2 : 0\n"
     ]
    }
   ],
   "source": [
    "string=input(\"Type your input here : \")\n",
    "digit=0\n",
    "letters=0\n",
    "x=True\n",
    "while x:\n",
    "    for elements in string:\n",
    "        if elements.isdigit():\n",
    "            digit+=1\n",
    "        elif elements.isalpha():\n",
    "            letters+=1\n",
    "    x=False\n",
    "print(\"Digits in {} : {}\".format(string,digit))\n",
    "print(\"Letters in {} : {}\".format(string,letters))"
   ]
  },
  {
   "cell_type": "code",
   "execution_count": 21,
   "id": "fb6c976f",
   "metadata": {},
   "outputs": [
    {
     "name": "stdout",
     "output_type": "stream",
     "text": [
      "Ravi1812@\n",
      "OK\n",
      "You have given valid Password.\n"
     ]
    }
   ],
   "source": [
    "#8) Write a Python program to check the validity of password input by users. \n",
    "#Validation:\n",
    "#At least 1 letter between [a-z] and 1 letter between [A-Z].\n",
    "#At least 1 number between [0-9]. \n",
    "#At least 1 character from [$#@].\n",
    "#Minimum length 6 characters.\n",
    "#Maximum length 16 characters\n",
    "password=input()\n",
    "lowercase=0\n",
    "uppercase=0\n",
    "num=0\n",
    "sym=0\n",
    "symbol=[\"@\",\"$\",\"#\"]\n",
    "for elements in password:\n",
    "    if elements.isalpha():\n",
    "        if elements==elements.upper():\n",
    "            uppercase+=1\n",
    "        elif elements==elements.lower():\n",
    "            lowercase+=1\n",
    "    elif elements in symbol:\n",
    "        sym+=1\n",
    "    elif int(elements) in range(0,10):\n",
    "        num+=1\n",
    "if len(password)<6:\n",
    "    print(\"Your Password must contain atleast 6 charecters\")\n",
    "elif len(password)>16:\n",
    "    print(\"Your Password length is greater than limits, Please reduce some charecters\")\n",
    "elif num==0:\n",
    "    print(\"Please include numbers inside your password\")\n",
    "elif uppercase==0:\n",
    "    print(\"Please include upperr case letters inside your password\")\n",
    "elif lowercase==0:\n",
    "    print(\"Please include lower case letters inside your password\")\n",
    "else:\n",
    "    print(\"OK\\nYou have given valid Password.\")"
   ]
  },
  {
   "cell_type": "code",
   "execution_count": 22,
   "id": "7a255f29",
   "metadata": {},
   "outputs": [
    {
     "name": "stdout",
     "output_type": "stream",
     "text": [
      "Enter : \n",
      "Ravikumar\n",
      "ramukivaR \n"
     ]
    }
   ],
   "source": [
    "# 9) Write a program in Python to reverse a word by using while loop\n",
    "\n",
    "\n",
    "print(\"Enter : \")\n",
    "word=input()\n",
    "length=len(word)\n",
    "reverse=\"\"\n",
    "while length > 0:\n",
    "    reverse+=word[length-1]\n",
    "    length=length-1\n",
    "print(\"{} \".format(reverse))"
   ]
  },
  {
   "cell_type": "code",
   "execution_count": 1,
   "id": "3a717c95",
   "metadata": {},
   "outputs": [
    {
     "name": "stdout",
     "output_type": "stream",
     "text": [
      "enter 10 values to findout their average :\n",
      "1\n",
      "2\n",
      "3\n",
      "4\n",
      "5\n",
      "6\n",
      "7\n",
      "8\n",
      "9\n",
      "4\n",
      "The average of given numbers = 4.9\n"
     ]
    }
   ],
   "source": [
    "# 10) Write a program which takes 10 integers as input using loop and print their average value on the screen\n",
    "\n",
    "\n",
    "print(\"enter 10 values to findout their average :\")\n",
    "a=[]\n",
    "x=True\n",
    "while x:\n",
    "    num=int(input())\n",
    "    a.append(num)\n",
    "    if len(a)==10:\n",
    "        x=False\n",
    "    else:\n",
    "        continue\n",
    "total=sum(a)\n",
    "print(\"The average of given numbers = {}\".format(total/len(a)))"
   ]
  },
  {
   "cell_type": "code",
   "execution_count": 2,
   "id": "c97e5f25",
   "metadata": {},
   "outputs": [
    {
     "name": "stdout",
     "output_type": "stream",
     "text": [
      "Please enter 10 values to findout their average :\n",
      "1\n",
      "2\n",
      "3\n",
      "4\n",
      "5\n",
      "6\n",
      "7\n",
      "8\n",
      "9\n",
      "4\n",
      "The average of given numbers = 4.9\n"
     ]
    }
   ],
   "source": [
    "print(\"Please enter 10 values to findout their average :\")\n",
    "a=[]\n",
    "for i in range(0,10):\n",
    "    num=int(input())\n",
    "    a.append(num)\n",
    "total=sum(a)\n",
    "print(\"The average of given numbers = {}\".format(total/len(a)))"
   ]
  },
  {
   "cell_type": "code",
   "execution_count": 3,
   "id": "49d43fa1",
   "metadata": {},
   "outputs": [
    {
     "name": "stdout",
     "output_type": "stream",
     "text": [
      "enter numbers in the provided boxes findout their average and the product :\n",
      "give a number : 23\n",
      "if you want to exit press - q\n",
      "give a number : 34\n",
      "if you want to exit press - q\n",
      "give a number : 45\n",
      "if you want to exit press - q\n",
      "give a number : 67\n",
      "if you want to exit press - q\n",
      "give a number : 89\n",
      "if you want to exit press - q\n",
      "give a number : 33\n",
      "if you want to exit press - q\n",
      "give a number : 23\n",
      "if you want to exit press - q\n",
      "give a number : q\n",
      "\n",
      "Product = 159267019230\n",
      "Average = 44.857142857142854\n"
     ]
    }
   ],
   "source": [
    "# 11) Write a program which takes integer inputs from user until he/she presses “q” (Ask to press q to quit after every integer input). Print average and product of all numbers.\n",
    "\n",
    "\n",
    "print(\"enter numbers in the provided boxes findout their average and the product :\")\n",
    "numbers=[]\n",
    "newnum=[]\n",
    "product=1\n",
    "while True:\n",
    "    num=input(\"give a number : \")\n",
    "    if num==\"q\":\n",
    "        break\n",
    "    print(\"if you want to exit press - q\")\n",
    "    numbers.append(num)\n",
    "for j in numbers:\n",
    "    a=int(j)\n",
    "    newnum.append(a)\n",
    "for i in newnum:\n",
    "    product=product*i\n",
    "total=sum(newnum)\n",
    "average=total/len(newnum)\n",
    "print(\"\\nProduct = {}\".format(product))\n",
    "print(\"Average = {}\".format(average))"
   ]
  },
  {
   "cell_type": "code",
   "execution_count": 5,
   "id": "38165c4e",
   "metadata": {},
   "outputs": [
    {
     "name": "stdout",
     "output_type": "stream",
     "text": [
      "Type your input here : we33ee347udnbd\n",
      "weeeudnbd\n"
     ]
    }
   ],
   "source": [
    "# 12) Write a Python program which will remove all digits or any other characters from the string except alphabets\n",
    "\n",
    "\n",
    "name=input(\"Type your input here : \")\n",
    "new=\"\"\n",
    "for letters in name:\n",
    "    if letters.isalpha():\n",
    "        new+=letters\n",
    "    else:\n",
    "        continue\n",
    "print(new)"
   ]
  },
  {
   "cell_type": "code",
   "execution_count": 6,
   "id": "472a30cc",
   "metadata": {},
   "outputs": [
    {
     "name": "stdout",
     "output_type": "stream",
     "text": [
      "Type your input here : u12t567231ygd6732redwug\n",
      "utygdredwug\n"
     ]
    }
   ],
   "source": [
    "name=input(\"Type your input here : \")\n",
    "new=\"\"\n",
    "x=True\n",
    "while x:\n",
    "    for letters in name:\n",
    "        if letters.isalpha():\n",
    "            new+=letters\n",
    "        else:\n",
    "            continue\n",
    "    x=False\n",
    "print(new)\n"
   ]
  },
  {
   "cell_type": "code",
   "execution_count": 7,
   "id": "a7b0eff1",
   "metadata": {},
   "outputs": [
    {
     "name": "stdout",
     "output_type": "stream",
     "text": [
      "Sum of all even numbers from 0 to 10 are :-. 30\n"
     ]
    }
   ],
   "source": [
    "total=0\n",
    "x=True\n",
    "while x:\n",
    "    for num in range(0,11):\n",
    "        if num%2==0:\n",
    "            total+=num\n",
    "    x=False\n",
    "print(\"Sum of all even numbers from 0 to 10 are :-. {}\".format(total))"
   ]
  },
  {
   "cell_type": "code",
   "execution_count": 8,
   "id": "1c7ddc26",
   "metadata": {},
   "outputs": [
    {
     "name": "stdout",
     "output_type": "stream",
     "text": [
      "Sum of all even numbers from 0 to 10 are :-. 30\n"
     ]
    }
   ],
   "source": [
    "total=0\n",
    "x=True\n",
    "while x:\n",
    "    for num in range(0,11):\n",
    "        if num%2==0:\n",
    "            total+=num\n",
    "    x=False\n",
    "print(\"Sum of all even numbers from 0 to 10 are :-. {}\".format(total))"
   ]
  },
  {
   "cell_type": "code",
   "execution_count": 10,
   "id": "a4dada3e",
   "metadata": {},
   "outputs": [
    {
     "name": "stdout",
     "output_type": "stream",
     "text": [
      "Enter a number, so that you can get all the numbers which are before it till zero.\n",
      "Provide a number : 6\n",
      "6\n",
      "5\n",
      "4\n",
      "3\n",
      "2\n",
      "1\n",
      "0\n"
     ]
    }
   ],
   "source": [
    "# 14) Write a python program which will accept a digit and print All the numbers before it till 0\n",
    "\n",
    "\n",
    "print(\"Enter a number, so that you can get all the numbers which are before it till zero.\")\n",
    "number=int(input(\"Provide a number : \"))\n",
    "\n",
    "while number>=0:\n",
    "    print(number)\n",
    "    number-=1"
   ]
  },
  {
   "cell_type": "code",
   "execution_count": 11,
   "id": "c50c930a",
   "metadata": {},
   "outputs": [
    {
     "name": "stdout",
     "output_type": "stream",
     "text": [
      "num 1 : 3\n",
      "choose any symbol from +,-,*,/ : *\n",
      "num 2 : 5\n",
      "3 * 5 = 15\n",
      "Press c to close : c\n"
     ]
    }
   ],
   "source": [
    "# 15) Create a dynamic calculator which will run continuasly till you press “c”\n",
    "\n",
    "\n",
    "a=int(input(\"num 1 : \"))\n",
    "x=input(\"choose any symbol from +,-,*,/ : \")\n",
    "b=int(input(\"num 2 : \"))\n",
    "while True:\n",
    "    if x==\"+\":\n",
    "        print(\"{} {} {} = {}\".format(a,x,b,a+b))\n",
    "    elif x==\"-\":\n",
    "        print(\"{} {} {} = {}\".format(a,x,b,a-b))\n",
    "    elif x==\"*\":\n",
    "        print(\"{} {} {} = {}\".format(a,x,b,a*b))\n",
    "    elif x==\"/\":\n",
    "        print(\"{} {} {} = {}\".format(a,x,b,a/b))\n",
    "    new=input(\"Press c to close : \")\n",
    "    if new==\"c\" or new==\"C\":\n",
    "        break"
   ]
  },
  {
   "cell_type": "code",
   "execution_count": null,
   "id": "3ab8c353",
   "metadata": {},
   "outputs": [],
   "source": []
  }
 ],
 "metadata": {
  "kernelspec": {
   "display_name": "Python 3 (ipykernel)",
   "language": "python",
   "name": "python3"
  },
  "language_info": {
   "codemirror_mode": {
    "name": "ipython",
    "version": 3
   },
   "file_extension": ".py",
   "mimetype": "text/x-python",
   "name": "python",
   "nbconvert_exporter": "python",
   "pygments_lexer": "ipython3",
   "version": "3.9.13"
  }
 },
 "nbformat": 4,
 "nbformat_minor": 5
}
